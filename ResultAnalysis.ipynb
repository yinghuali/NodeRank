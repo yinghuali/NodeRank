{
 "cells": [
  {
   "cell_type": "markdown",
   "metadata": {},
   "source": [
    "# RQ1"
   ]
  },
  {
   "cell_type": "code",
   "execution_count": 63,
   "metadata": {},
   "outputs": [],
   "source": [
    "pd.set_option('display.max_columns', None)\n",
    "pd.set_option('display.max_rows', None)\n",
    "pd.set_option('max_colwidth', 200)"
   ]
  },
  {
   "cell_type": "code",
   "execution_count": 127,
   "metadata": {},
   "outputs": [],
   "source": [
    "import pandas as pd\n",
    "import os\n",
    "\n",
    "def get_path_apgd(path_dir_compile):\n",
    "    path_list = []\n",
    "    if os.path.isdir(path_dir_compile):\n",
    "        for root, dirs, files in os.walk(path_dir_compile, topdown=True):\n",
    "            for file in files:\n",
    "                file_absolute_path = os.path.join(root, file)\n",
    "                if file_absolute_path.endswith('.csv') and 'apfd' in file_absolute_path:\n",
    "                    path_list.append(file_absolute_path)\n",
    "    return path_list\n",
    "\n",
    "def check_attack(path):\n",
    "    attack_check_list = ['pgdattack', 'nodeembeddingattack', 'randomattack', 'dice', 'minmax']\n",
    "    for i in attack_check_list:\n",
    "        if i in path:\n",
    "            return True\n",
    "    return False\n",
    "\n",
    "\n",
    "def check_weight_stacking_voting(s):\n",
    "    if 'weight' in s:\n",
    "        return 1\n",
    "    if 'stacking' in s:\n",
    "        return 1\n",
    "    if 'voting' in s:\n",
    "        return 1\n",
    "    return 0\n",
    "\n",
    "path_list = get_path_apgd('/Users/yinghua.li/Documents/Pycharm/NodeRank/res')\n",
    "path_list = sorted([i for i in path_list if not check_attack(i)])\n",
    "# path_list.append('/Users/yinghua.li/Documents/Pycharm/NodeRank/res/apfd_citeseer_gcn.csv')\n",
    "path_list = sorted(path_list)\n",
    "data_list = []\n",
    "for path in path_list:\n",
    "    df = pd.read_csv(path, header=None, names=['subject', 'apfd'])\n",
    "    data_list.append(df)\n",
    "df = pd.concat(data_list, ignore_index=True)\n",
    "df['data'] = [i.split('_')[0] for i in df['subject']] \n",
    "df['gnn'] = [i.split('_')[1] for i in df['subject']] \n",
    "df['method'] = [i.split('_')[2] for i in df['subject']]\n",
    "\n",
    "dic = {'gat': 'GAT', 'gcn': 'GCN', 'tagcn': 'TAGCN', 'graphsage': 'GraphSAGE', 'xgb': 'XGB', 'lgb': 'LGB', 'rf': 'RF', \n",
    "       'lr': 'LR', 'mutation': 'Mutation', 'fusion': 'NodeRank',\n",
    "       'deepGini': 'DeepGini', 'leastConfidence': 'Least Confidence', 'margin': 'Margin', 'random': 'Random'}\n",
    "dic_data = {'citeseer': 'CiteSeer', 'cora': 'Cora', 'lastfm': 'LastFM', 'pubmed': 'PubMed'}\n",
    "df['data'] = [dic_data[i] for i in df['data']]\n",
    "\n",
    "df['gnn'] = [dic[i] for i in df['gnn']]\n",
    "df['method'] = [dic[i] for i in df['method']]\n",
    "df = df[(df['method']!='XGB')&(df['method']!='LGB')&\n",
    "        (df['method']!='RF')&(df['method']!='LR')&\n",
    "        (df['method']!='Mutation')]\n",
    "\n",
    "df['check'] = df['subject'].apply(check_weight_stacking_voting)\n",
    "df = df[df['check']==0]\n",
    "del df['check']"
   ]
  },
  {
   "cell_type": "code",
   "execution_count": 165,
   "metadata": {},
   "outputs": [
    {
     "data": {
      "text/html": [
       "<div>\n",
       "<style scoped>\n",
       "    .dataframe tbody tr th:only-of-type {\n",
       "        vertical-align: middle;\n",
       "    }\n",
       "\n",
       "    .dataframe tbody tr th {\n",
       "        vertical-align: top;\n",
       "    }\n",
       "\n",
       "    .dataframe thead th {\n",
       "        text-align: right;\n",
       "    }\n",
       "</style>\n",
       "<table border=\"1\" class=\"dataframe\">\n",
       "  <thead>\n",
       "    <tr style=\"text-align: right;\">\n",
       "      <th></th>\n",
       "      <th>Method</th>\n",
       "      <th>GAT</th>\n",
       "      <th>GCN</th>\n",
       "      <th>GraphSAGE</th>\n",
       "      <th>TAGCN</th>\n",
       "      <th>GAT</th>\n",
       "      <th>GCN</th>\n",
       "      <th>GraphSAGE</th>\n",
       "      <th>TAGCN</th>\n",
       "      <th>GAT</th>\n",
       "      <th>GCN</th>\n",
       "      <th>GraphSAGE</th>\n",
       "      <th>TAGCN</th>\n",
       "      <th>GAT</th>\n",
       "      <th>GCN</th>\n",
       "      <th>GraphSAGE</th>\n",
       "      <th>TAGCN</th>\n",
       "    </tr>\n",
       "  </thead>\n",
       "  <tbody>\n",
       "    <tr>\n",
       "      <th>0</th>\n",
       "      <td>Random</td>\n",
       "      <td>0.518912</td>\n",
       "      <td>0.492917</td>\n",
       "      <td>0.493088</td>\n",
       "      <td>0.511665</td>\n",
       "      <td>0.503254</td>\n",
       "      <td>0.478755</td>\n",
       "      <td>0.517079</td>\n",
       "      <td>0.493682</td>\n",
       "      <td>0.500594</td>\n",
       "      <td>0.504364</td>\n",
       "      <td>0.524906</td>\n",
       "      <td>0.500270</td>\n",
       "      <td>0.501879</td>\n",
       "      <td>0.491635</td>\n",
       "      <td>0.492895</td>\n",
       "      <td>0.507982</td>\n",
       "    </tr>\n",
       "    <tr>\n",
       "      <th>1</th>\n",
       "      <td>Margin</td>\n",
       "      <td>0.681322</td>\n",
       "      <td>0.672569</td>\n",
       "      <td>0.682115</td>\n",
       "      <td>0.680334</td>\n",
       "      <td>0.743866</td>\n",
       "      <td>0.728317</td>\n",
       "      <td>0.718312</td>\n",
       "      <td>0.734541</td>\n",
       "      <td>0.653423</td>\n",
       "      <td>0.750178</td>\n",
       "      <td>0.772097</td>\n",
       "      <td>0.763214</td>\n",
       "      <td>0.648763</td>\n",
       "      <td>0.599527</td>\n",
       "      <td>0.659048</td>\n",
       "      <td>0.661974</td>\n",
       "    </tr>\n",
       "    <tr>\n",
       "      <th>2</th>\n",
       "      <td>Least Confidence</td>\n",
       "      <td>0.675313</td>\n",
       "      <td>0.672070</td>\n",
       "      <td>0.665940</td>\n",
       "      <td>0.672819</td>\n",
       "      <td>0.752761</td>\n",
       "      <td>0.744302</td>\n",
       "      <td>0.735226</td>\n",
       "      <td>0.741384</td>\n",
       "      <td>0.638566</td>\n",
       "      <td>0.737419</td>\n",
       "      <td>0.780938</td>\n",
       "      <td>0.772234</td>\n",
       "      <td>0.662187</td>\n",
       "      <td>0.709032</td>\n",
       "      <td>0.658542</td>\n",
       "      <td>0.658466</td>\n",
       "    </tr>\n",
       "    <tr>\n",
       "      <th>3</th>\n",
       "      <td>DeepGini</td>\n",
       "      <td>0.638040</td>\n",
       "      <td>0.643868</td>\n",
       "      <td>0.611970</td>\n",
       "      <td>0.627684</td>\n",
       "      <td>0.720020</td>\n",
       "      <td>0.726827</td>\n",
       "      <td>0.710136</td>\n",
       "      <td>0.693224</td>\n",
       "      <td>0.585646</td>\n",
       "      <td>0.691724</td>\n",
       "      <td>0.759221</td>\n",
       "      <td>0.739889</td>\n",
       "      <td>0.637740</td>\n",
       "      <td>0.693837</td>\n",
       "      <td>0.608250</td>\n",
       "      <td>0.615310</td>\n",
       "    </tr>\n",
       "    <tr>\n",
       "      <th>4</th>\n",
       "      <td>NodeRank</td>\n",
       "      <td>0.717976</td>\n",
       "      <td>0.700982</td>\n",
       "      <td>0.729987</td>\n",
       "      <td>0.722619</td>\n",
       "      <td>0.821919</td>\n",
       "      <td>0.819389</td>\n",
       "      <td>0.819161</td>\n",
       "      <td>0.792463</td>\n",
       "      <td>0.824753</td>\n",
       "      <td>0.830142</td>\n",
       "      <td>0.830645</td>\n",
       "      <td>0.822687</td>\n",
       "      <td>0.790333</td>\n",
       "      <td>0.774411</td>\n",
       "      <td>0.816510</td>\n",
       "      <td>0.811550</td>\n",
       "    </tr>\n",
       "  </tbody>\n",
       "</table>\n",
       "</div>"
      ],
      "text/plain": [
       "             Method       GAT       GCN  GraphSAGE     TAGCN       GAT  \\\n",
       "0            Random  0.518912  0.492917   0.493088  0.511665  0.503254   \n",
       "1            Margin  0.681322  0.672569   0.682115  0.680334  0.743866   \n",
       "2  Least Confidence  0.675313  0.672070   0.665940  0.672819  0.752761   \n",
       "3          DeepGini  0.638040  0.643868   0.611970  0.627684  0.720020   \n",
       "4          NodeRank  0.717976  0.700982   0.729987  0.722619  0.821919   \n",
       "\n",
       "        GCN  GraphSAGE     TAGCN       GAT       GCN  GraphSAGE     TAGCN  \\\n",
       "0  0.478755   0.517079  0.493682  0.500594  0.504364   0.524906  0.500270   \n",
       "1  0.728317   0.718312  0.734541  0.653423  0.750178   0.772097  0.763214   \n",
       "2  0.744302   0.735226  0.741384  0.638566  0.737419   0.780938  0.772234   \n",
       "3  0.726827   0.710136  0.693224  0.585646  0.691724   0.759221  0.739889   \n",
       "4  0.819389   0.819161  0.792463  0.824753  0.830142   0.830645  0.822687   \n",
       "\n",
       "        GAT       GCN  GraphSAGE     TAGCN  \n",
       "0  0.501879  0.491635   0.492895  0.507982  \n",
       "1  0.648763  0.599527   0.659048  0.661974  \n",
       "2  0.662187  0.709032   0.658542  0.658466  \n",
       "3  0.637740  0.693837   0.608250  0.615310  \n",
       "4  0.790333  0.774411   0.816510  0.811550  "
      ]
     },
     "execution_count": 165,
     "metadata": {},
     "output_type": "execute_result"
    }
   ],
   "source": [
    "approach_list = ['Random', 'Margin','Least Confidence', 'DeepGini', 'NodeRank']\n",
    "data_list = ['CiteSeer', 'Cora', 'LastFM', 'PubMed']\n",
    "gnn_list = ['GAT', 'GCN', 'GraphSAGE', 'TAGCN']\n",
    "\n",
    "res_list = []\n",
    "for method in approach_list:\n",
    "    tmp_list = [method]\n",
    "    for data in data_list:\n",
    "        for gnn in gnn_list:\n",
    "            apfd = df[(df['method']==method) & (df['data']==data) & (df['gnn']==gnn)]['apfd'].values[0]\n",
    "            tmp_list.append(apfd)\n",
    "    res_list.append(tmp_list)  \n",
    "    \n",
    "df_re = pd.DataFrame(res_list, columns=['Method']+['GAT', 'GCN', 'GraphSAGE', 'TAGCN']*4)\n",
    "df_re"
   ]
  },
  {
   "cell_type": "code",
   "execution_count": 162,
   "metadata": {},
   "outputs": [
    {
     "data": {
      "text/plain": [
       "80"
      ]
     },
     "execution_count": 162,
     "metadata": {},
     "output_type": "execute_result"
    }
   ],
   "source": [
    "len(cols)"
   ]
  },
  {
   "cell_type": "code",
   "execution_count": 106,
   "metadata": {},
   "outputs": [
    {
     "data": {
      "text/plain": [
       "16"
      ]
     },
     "execution_count": 106,
     "metadata": {},
     "output_type": "execute_result"
    }
   ],
   "source": [
    "4*4"
   ]
  },
  {
   "cell_type": "code",
   "execution_count": 154,
   "metadata": {},
   "outputs": [
    {
     "data": {
      "text/plain": [
       "{'GAT', 'GCN', 'GraphSAGE', 'TAGCN'}"
      ]
     },
     "execution_count": 154,
     "metadata": {},
     "output_type": "execute_result"
    }
   ],
   "source": [
    "set(df['gnn'])"
   ]
  },
  {
   "cell_type": "code",
   "execution_count": null,
   "metadata": {},
   "outputs": [],
   "source": []
  }
 ],
 "metadata": {
  "kernelspec": {
   "display_name": "Python 3",
   "language": "python",
   "name": "python3"
  },
  "language_info": {
   "codemirror_mode": {
    "name": "ipython",
    "version": 3
   },
   "file_extension": ".py",
   "mimetype": "text/x-python",
   "name": "python",
   "nbconvert_exporter": "python",
   "pygments_lexer": "ipython3",
   "version": "3.8.5"
  },
  "toc": {
   "base_numbering": 1,
   "nav_menu": {},
   "number_sections": true,
   "sideBar": true,
   "skip_h1_title": false,
   "title_cell": "Table of Contents",
   "title_sidebar": "Contents",
   "toc_cell": false,
   "toc_position": {},
   "toc_section_display": true,
   "toc_window_display": true
  }
 },
 "nbformat": 4,
 "nbformat_minor": 4
}
